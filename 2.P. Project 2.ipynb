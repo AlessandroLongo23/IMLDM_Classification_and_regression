{
 "cells": [
  {
   "cell_type": "code",
   "execution_count": 19,
   "metadata": {},
   "outputs": [
    {
     "name": "stdout",
     "output_type": "stream",
     "text": [
      "             name     role         type demographic  \\\n",
      "0             Sex  Feature  Categorical        None   \n",
      "1          Length  Feature   Continuous        None   \n",
      "2        Diameter  Feature   Continuous        None   \n",
      "3          Height  Feature   Continuous        None   \n",
      "4    Whole_weight  Feature   Continuous        None   \n",
      "5  Shucked_weight  Feature   Continuous        None   \n",
      "6  Viscera_weight  Feature   Continuous        None   \n",
      "7    Shell_weight  Feature   Continuous        None   \n",
      "8           Rings   Target      Integer        None   \n",
      "\n",
      "                   description  units missing_values  \n",
      "0         M, F, and I (infant)   None             no  \n",
      "1    Longest shell measurement     mm             no  \n",
      "2      perpendicular to length     mm             no  \n",
      "3           with meat in shell     mm             no  \n",
      "4                whole abalone  grams             no  \n",
      "5               weight of meat  grams             no  \n",
      "6  gut weight (after bleeding)  grams             no  \n",
      "7            after being dried  grams             no  \n",
      "8  +1.5 gives the age in years   None             no  \n",
      "(4173, 9)\n"
     ]
    }
   ],
   "source": [
    "import numpy as np\n",
    "import matplotlib.pyplot as plt\n",
    "from sklearn.model_selection import KFold\n",
    "  \n",
    "from ucimlrepo import fetch_ucirepo\n",
    "\n",
    "abalone = fetch_ucirepo(id = 1)\n",
    "print(abalone.variables)\n",
    "\n",
    "data = abalone.data.original.to_numpy()\n",
    "\n",
    "# Getting rid of observations with 0 height, or with a height too large (as specified in the first report)\n",
    "data = data[data[:, 3] != 0]\n",
    "data = data[data[:, 3] < 0.5]\n",
    "        \n",
    "print(np.shape(data))"
   ]
  },
  {
   "cell_type": "markdown",
   "metadata": {},
   "source": [
    "- - -\n",
    "- - -\n",
    "# 1. Regression (part 1)"
   ]
  },
  {
   "cell_type": "markdown",
   "metadata": {},
   "source": [
    "## 1.1. Data preparation\n",
    "> **Exercise**\n",
    "> \n",
    "> Explain what variable is predicted based on which other variables and what you hope to accomplish by the regression. \n",
    "> Mention your feature transformation choices such as one-of-K coding. \n",
    "> Since we will use regularization momentarily, apply a feature transformation to your data matrix X such that each column has mean $0$ and standard deviation $1$."
   ]
  },
  {
   "cell_type": "markdown",
   "metadata": {},
   "source": [
    "### 1.1.1. Objective\n"
   ]
  },
  {
   "cell_type": "markdown",
   "metadata": {},
   "source": [
    "### 1.1.2. One-hot encoding\n",
    "We decided to use the one-hot encoding to transform the first attribute, which is the gender of the abalone: intially assuming values 'M', 'F', and 'I' for male, female, and infant, we encode the values by replacing the column with three different columns, one for each gender, in which the values are 1 if the original value was the gender, and 0 otherwise."
   ]
  },
  {
   "cell_type": "code",
   "execution_count": 20,
   "metadata": {},
   "outputs": [],
   "source": [
    "def encode_sex_column(data):\n",
    "    # Extract sex column\n",
    "    sex_column = data[:, 0]\n",
    "    \n",
    "    # convert to 0 and 1\n",
    "    male = (sex_column == 'M').astype(int)\n",
    "    female = (sex_column == 'F').astype(int)\n",
    "    infant = (sex_column == 'I').astype(int)\n",
    "    \n",
    "    # Stack horizontally\n",
    "    encoded = np.column_stack((male, female, infant))\n",
    "    \n",
    "    # Combine with rest of data (excluding original sex column)\n",
    "    encoded_data = np.column_stack((encoded, data[:, 1:]))\n",
    "    \n",
    "    return encoded_data"
   ]
  },
  {
   "cell_type": "markdown",
   "metadata": {},
   "source": [
    "### 1.1.3. Data standardization\n",
    "We also need to standardize the data to have mean 0 and standard deviation 1."
   ]
  },
  {
   "cell_type": "code",
   "execution_count": 21,
   "metadata": {},
   "outputs": [],
   "source": [
    "def standardize_data(data):\n",
    "    # Standardize remaining columns\n",
    "    numeric_cols = data.astype(float)\n",
    "    \n",
    "    # Calculate mean and std for each column\n",
    "    means = np.mean(numeric_cols, axis=0)\n",
    "    stds = np.std(numeric_cols, axis=0)\n",
    "    \n",
    "    # Standardize: (X - mean) / std\n",
    "    standardized_cols = (numeric_cols - means) / stds\n",
    "    \n",
    "    return standardized_cols, means, stds"
   ]
  },
  {
   "cell_type": "code",
   "execution_count": 22,
   "metadata": {},
   "outputs": [
    {
     "name": "stdout",
     "output_type": "stream",
     "text": [
      "Input:\n",
      "[[ 1.3163622  -0.67492846 -0.68774764 ... -0.60810552 -0.72681646\n",
      "  -0.63809109]\n",
      " [ 1.3163622  -0.67492846 -0.68774764 ... -1.17198596 -1.20621735\n",
      "  -1.21298966]\n",
      " [-0.75966934  1.48163851 -0.68774764 ... -0.46375213 -0.35699291\n",
      "  -0.20691716]\n",
      " ...\n",
      " [ 1.3163622  -0.67492846 -0.68774764 ...  0.74971856  0.97619814\n",
      "   0.49733359]\n",
      " [-0.75966934  1.48163851 -0.68774764 ...  0.7745293   0.73421483\n",
      "   0.4110988 ]\n",
      " [ 1.3163622  -0.67492846 -0.68774764 ...  2.64435681  1.78889679\n",
      "   1.841159  ]]\n",
      "\n",
      "Output:\n",
      "[[ 1.57063184]\n",
      " [-0.91039274]\n",
      " [-0.29013659]\n",
      " ...\n",
      " [-0.29013659]\n",
      " [ 0.01999148]\n",
      " [ 0.64024763]]\n"
     ]
    }
   ],
   "source": [
    "encoded_data = encode_sex_column(data)\n",
    "standardized_data, _, _ = standardize_data(encoded_data)\n",
    "X, y = standardized_data[:, :-1], standardized_data[:, -1:]\n",
    "\n",
    "print(f'Input:\\n{X}\\n\\nOutput:\\n{y}')"
   ]
  },
  {
   "cell_type": "markdown",
   "metadata": {},
   "source": [
    "### 1.1.4. Linear regression\n",
    "We now implement a basic linear regression model that can solve analytically for the weights."
   ]
  },
  {
   "cell_type": "code",
   "execution_count": 23,
   "metadata": {},
   "outputs": [
    {
     "name": "stdout",
     "output_type": "stream",
     "text": [
      "R² Score: 0.5439\n",
      "MSE: 0.4561\n"
     ]
    }
   ],
   "source": [
    "from Regression.LinearRegression import LinearRegression\n",
    "\n",
    "model = LinearRegression(X, y)\n",
    "model.solve_analytical()\n",
    "scores = model.score()\n",
    "\n",
    "print(f\"R² Score: {scores['R2']:.4f}\")\n",
    "print(f\"MSE: {scores['MSE']:.4f}\")"
   ]
  },
  {
   "cell_type": "markdown",
   "metadata": {},
   "source": [
    "- - -\n",
    "## 1.2. Regularization"
   ]
  },
  {
   "cell_type": "markdown",
   "metadata": {},
   "source": [
    "### 1.2.1. Analytical solution\n",
    "Even if we pass a regularization value for lambda, we can still solve the linear regression analytically using the following formula:\n",
    "\n",
    "$$$$"
   ]
  },
  {
   "cell_type": "code",
   "execution_count": 24,
   "metadata": {},
   "outputs": [
    {
     "name": "stdout",
     "output_type": "stream",
     "text": [
      "R² Score: 0.5426\n",
      "MSE: 0.4574\n"
     ]
    }
   ],
   "source": [
    "model.solve_analytical(lambda_=10)\n",
    "scores = model.score()\n",
    "\n",
    "print(f\"R² Score: {scores['R2']:.4f}\")\n",
    "print(f\"MSE: {scores['MSE']:.4f}\")"
   ]
  },
  {
   "cell_type": "markdown",
   "metadata": {},
   "source": [
    "### 1.2.2. Regularization path\n",
    "Then we can write a method for plotting the mean coefficient values, which shows the weights of each feature as a function of the regularization parameter."
   ]
  },
  {
   "cell_type": "code",
   "execution_count": 25,
   "metadata": {},
   "outputs": [
    {
     "data": {
      "image/png": "[encoded data removed]",
      "text/plain": [
       "<Figure size 1200x1200 with 3 Axes>"
      ]
     },
     "metadata": {},
     "output_type": "display_data"
    }
   ],
   "source": [
    "model.plot_regularization_effects(lambda_range=(-3, 6), n_samples=20)"
   ]
  },
  {
   "cell_type": "markdown",
   "metadata": {},
   "source": [
    "### 1.2.3. Cross-validation and general estimated error\n",
    "The next step is to use the K-fold cross-validation to estimate the general error of the model."
   ]
  },
  {
   "cell_type": "code",
   "execution_count": 26,
   "metadata": {},
   "outputs": [
    {
     "name": "stdout",
     "output_type": "stream",
     "text": [
      "Optimal lambda: 0.3039195382313198\n",
      "Lowest MSE: 0.4592710718430603\n"
     ]
    },
    {
     "data": {
      "image/png": "[encoded data removed]",
      "text/plain": [
       "<Figure size 1000x400 with 1 Axes>"
      ]
     },
     "metadata": {},
     "output_type": "display_data"
    }
   ],
   "source": [
    "model.plot_one_level_cv_generalization_error()"
   ]
  },
  {
   "cell_type": "code",
   "execution_count": 27,
   "metadata": {},
   "outputs": [
    {
     "name": "stderr",
     "output_type": "stream",
     "text": [
      "ExactExplainer explainer: 836it [00:11, 11.61it/s]                         \n"
     ]
    },
    {
     "data": {
      "image/png": "[encoded data removed]",
      "text/plain": [
       "<Figure size 800x550 with 2 Axes>"
      ]
     },
     "metadata": {},
     "output_type": "display_data"
    }
   ],
   "source": [
    "import shap\n",
    "from sklearn.model_selection import train_test_split\n",
    "from sklearn.linear_model import LinearRegression as LR\n",
    "import pandas as pd\n",
    "\n",
    "X_shap, y_shap = standardized_data[:, :-1], standardized_data[:, -1:]\n",
    "y_shap = pd.Series(y_shap[:,0])\n",
    "\n",
    "feature_names = ['Male', 'Female', 'Infant'] + abalone.variables.name.to_numpy()[1:-1].tolist()\n",
    "#X_shap, y_shap = encoded_data[:, :-1], encoded_data[:, -1:]\n",
    "\n",
    "X_shap = pd.DataFrame(X_shap, columns=feature_names)\n",
    "for i in range(X_shap.shape[0]):\n",
    "    X_shap.values[i, 0] = float(X_shap.values[i, 0])\n",
    "    X_shap.values[i, 1] = float(X_shap.values[i, 1])\n",
    "    X_shap.values[i, 2] = float(X_shap.values[i, 2])\n",
    "    \n",
    "for i in range(X_shap.shape[0]):\n",
    "    for j in range(X_shap.shape[1]):\n",
    "        assert isinstance(X_shap.values[i, j], (float))\n",
    "        \n",
    "X_train, X_test, y_train, y_test = train_test_split(X_shap, y_shap, test_size=0.2, random_state=42)\n",
    "\n",
    "X_train = X_train.astype(float)\n",
    "X_test = X_test.astype(float)\n",
    "\n",
    "# a simple linear model\n",
    "model = LR()\n",
    "model.fit(X_train, y_train)\n",
    "\n",
    "# Fits the explainer\n",
    "explainer = shap.Explainer(model.predict, X_test)\n",
    "# Calculates the SHAP values - It takes some time\n",
    "shap_values = explainer(X_test)\n",
    "\n",
    "# Select attributes (zero-indexed: 0 to 10)\n",
    "selected_indices = slice(0, 10)\n",
    "\n",
    "# Get the relevant SHAP values and feature names\n",
    "shap_values_subset = shap_values[:, selected_indices]\n",
    "X_test_subset = X_test.iloc[:, selected_indices]\n",
    "\n",
    "# Plot SHAP values for the selected features\n",
    "shap.summary_plot(shap_values_subset, X_test_subset, feature_names=X_test.columns[selected_indices])"
   ]
  },
  {
   "cell_type": "code",
   "execution_count": 28,
   "metadata": {},
   "outputs": [
    {
     "name": "stdout",
     "output_type": "stream",
     "text": [
      "Male -> 537646939734.7388\n",
      "Female -> 487235148821.2255\n",
      "Infant -> 419415064198.9236\n",
      "Whole_weight -> 1.1855\n",
      "Shucked_weight -> 1.0911\n",
      "Viscera_weight -> 0.3326\n",
      "Diameter -> 0.2972\n",
      "Shell_weight -> 0.2392\n",
      "Height -> 0.2370\n",
      "Length -> 0.0999\n"
     ]
    }
   ],
   "source": [
    "from scipy.special import softmax\n",
    "\n",
    "def print_feature_importances_shap_values(shap_values, features):\n",
    "    # Calculates the feature importance (mean absolute shap value) for each feature\n",
    "    importances = []\n",
    "    for i in range(shap_values.values.shape[1]):\n",
    "        importances.append(np.mean(np.abs(shap_values.values[:, i])))\n",
    "        \n",
    "    # Calculates the normalized version\n",
    "    importances_norm = softmax(importances)\n",
    "    \n",
    "    # Organize the importances and columns in a dictionary\n",
    "    feature_importances = {fea: imp for imp, fea in zip(importances, features)}\n",
    "    feature_importances_norm = {fea: imp for imp, fea in zip(importances_norm, features)}\n",
    "    \n",
    "    # Sorts the dictionary\n",
    "    feature_importances = {k: v for k, v in sorted(feature_importances.items(), key=lambda item: item[1], reverse = True)}\n",
    "    feature_importances_norm= {k: v for k, v in sorted(feature_importances_norm.items(), key=lambda item: item[1], reverse = True)}\n",
    "    \n",
    "    # Prints the feature importances\n",
    "    for k, v in feature_importances.items():\n",
    "        print(f\"{k} -> {v:.4f}\")\n",
    "\n",
    "print_feature_importances_shap_values(shap_values, feature_names)"
   ]
  },
  {
   "cell_type": "markdown",
   "metadata": {},
   "source": [
    "- - -\n",
    "## 1.3. Considerations"
   ]
  },
  {
   "cell_type": "markdown",
   "metadata": {},
   "source": [
    "### 1.3.1. \n",
    "Explain how the output, $y$, of the linear model with the lowest generalization error (as determined in the previous question) is computed for a given input $x$. "
   ]
  },
  {
   "cell_type": "markdown",
   "metadata": {},
   "source": [
    "### 1.3.2. \n",
    "What is the effect of an individual attribute in $x$ on the output, $y$, of the linear model?"
   ]
  },
  {
   "cell_type": "markdown",
   "metadata": {},
   "source": [
    "### 1.3.3. \n",
    "Does the effect of individual attributes make sense based on your understanding of the problem?"
   ]
  },
  {
   "cell_type": "markdown",
   "metadata": {},
   "source": [
    "- - -\n",
    "- - -\n",
    "\n",
    "# 2. Regression (part 2)\n",
    "\n",
    "In this section, we will compare three models: the regularized linear regression model from the previous section, an artificial neural network (ANN) and a baseline. We are interested in two questions: Is one model better than the other? Is either model better than a trivial baseline?. We will attempt to answer these questions with two-level cross-validation."
   ]
  },
  {
   "cell_type": "markdown",
   "metadata": {},
   "source": [
    "## 2.1. Building the models"
   ]
  },
  {
   "cell_type": "markdown",
   "metadata": {},
   "source": [
    "### 2.1.1. Baseline model\n",
    "\n",
    "As a baseline, we will use a linear regression model without features, that predicts the output for each test data always as the average of the training data.\n",
    "But since it's just a simple calculation, we will perform it directly in the cross-validation function."
   ]
  },
  {
   "cell_type": "markdown",
   "metadata": {},
   "source": [
    "### 2.1.2. Artificial Neural Networks (ANN)"
   ]
  },
  {
   "cell_type": "code",
   "execution_count": 29,
   "metadata": {},
   "outputs": [],
   "source": [
    "import torch\n",
    "# import torch.nn as nn\n",
    "# import torch.optim as optim"
   ]
  },
  {
   "cell_type": "code",
   "execution_count": 30,
   "metadata": {},
   "outputs": [],
   "source": [
    "from DataLoader import DataLoader\n",
    "from Regression.ANNRegression import ANNRegression\n",
    "\n",
    "device = torch.device(\"cuda\" if torch.cuda.is_available() else \"cpu\")"
   ]
  },
  {
   "cell_type": "markdown",
   "metadata": {},
   "source": [
    "- - -\n",
    "## 2.2. Comparing the performance"
   ]
  },
  {
   "cell_type": "markdown",
   "metadata": {},
   "source": [
    "### 2.2.1. Two-level cross-validation"
   ]
  },
  {
   "cell_type": "code",
   "execution_count": 31,
   "metadata": {},
   "outputs": [],
   "source": [
    "batch_size = 128\n",
    "num_epochs = 50\n",
    "criterion = torch.nn.MSELoss()\n",
    "\n",
    "def two_level_cross_validation(lambdas, hidden_neurons, outer_K, inner_K):\n",
    "    baseline_mse_scores = []\n",
    "    lr_outer_mse_scores = []\n",
    "    ann_outer_mse_scores = []\n",
    "    \n",
    "    outer_kf = KFold(n_splits=outer_K, shuffle=True, random_state=42)\n",
    "    outer_folds = outer_kf.split(X)\n",
    "    \n",
    "    # outer folds\n",
    "    for outer_train_index, outer_test_index in outer_folds:\n",
    "        X_outer_train, X_outer_test = X[outer_train_index], X[outer_test_index]\n",
    "        y_outer_train, y_outer_test = y[outer_train_index], y[outer_test_index]\n",
    "        \n",
    "        lr_avg_inner_mses = []\n",
    "        ann_avg_inner_mses = []\n",
    "        \n",
    "        # calculate the inner folds before looping over the hyperparameters to ensure that its the same for each of them\n",
    "        inner_kf = KFold(n_splits=inner_K, shuffle=True, random_state=42)\n",
    "        inner_folds = inner_kf.split(X_outer_train)\n",
    "        \n",
    "        # for every hyperparameter value\n",
    "        for j in range(len(lambdas)):\n",
    "            lambda_ = lambdas[j]\n",
    "            lr_inner_mse = 0\n",
    "   \n",
    "            hidden = hidden_neurons[j]\n",
    "            ann_inner_mse = 0\n",
    "\n",
    "            # inner folds\n",
    "            for inner_train_index, inner_val_index in inner_folds:\n",
    "                X_inner_train, X_inner_val = X_outer_train[inner_train_index], X_outer_train[inner_val_index]\n",
    "                y_inner_train, y_inner_val = y_outer_train[inner_train_index], y_outer_train[inner_val_index]\n",
    "                \n",
    "                # Train the linear regression model\n",
    "                lr_model = LinearRegression(X_inner_train, y_inner_train, include_bias=False)\n",
    "                lr_model.solve_analytical(lambda_)\n",
    "                lr_val_pred = np.dot(X_inner_val, lr_model.weights)\n",
    "                lr_inner_mse += np.mean((y_inner_val - lr_val_pred) ** 2)\n",
    "                    \n",
    "                # Train the ANN model\n",
    "                X_inner_train = torch.Tensor(X_inner_train.astype(np.float64)).to(device)\n",
    "                y_inner_train = torch.Tensor(y_inner_train.astype(np.float64)).to(device)\n",
    "                X_inner_val = torch.Tensor(X_inner_val.astype(np.float64)).to(device)\n",
    "                y_inner_val = torch.Tensor(y_inner_val.astype(np.float64)).to(device)\n",
    "                \n",
    "                train_loader = DataLoader(X_inner_train, y_inner_train, batch_size=batch_size)\n",
    "                val_loader = DataLoader(X_inner_val, y_inner_val, batch_size=batch_size)\n",
    "\n",
    "                ann_model = ANNRegression(X_inner_train.shape[1], hidden).to(device)\n",
    "                optimizer = torch.optim.Adam(ann_model.parameters(), lr=1e-3)\n",
    "                ann_model.train_(device, train_loader, val_loader, optimizer, criterion, num_epochs)\n",
    "                ann_val_pred = ann_model.predict(X_inner_val)\n",
    "                ann_inner_mse += np.mean((y_inner_val.cpu().detach().numpy() - ann_val_pred.cpu().detach().numpy()) ** 2)\n",
    "                    \n",
    "            # calculate the average mse of the inner folds for the given hyperparameter value and add it to the list\n",
    "            lr_avg_inner_mses.append(lr_inner_mse / inner_K)\n",
    "            ann_avg_inner_mses.append(ann_inner_mse / inner_K) \n",
    "\n",
    "        # take the hyperparameter that gave the lowest average mse on the inner folds\n",
    "        best_lambda = lambdas[np.argmin(ann_avg_inner_mses)]\n",
    "        best_hidden = hidden_neurons[np.argmin(ann_avg_inner_mses)]\n",
    "                    \n",
    "        # Evaluate the baseline model\n",
    "        y_train_outer_mean = np.mean(y_outer_train)\n",
    "        y_test_pred = np.full_like(y_outer_test, y_train_outer_mean)\n",
    "        baseline_mse = np.mean((y_outer_test - y_test_pred) ** 2)\n",
    "        baseline_mse_scores.append({'mse': baseline_mse})\n",
    "        \n",
    "        # Train the linear regression model with the best lambda\n",
    "        lr_model = LinearRegression(X_outer_train, y_outer_train, include_bias=False)\n",
    "        lr_model.solve_analytical(best_lambda)\n",
    "        # And evaluate it on the test set\n",
    "        lr_test_pred = np.dot(X_outer_test, lr_model.weights)\n",
    "        lr_outer_mse = np.mean((y_outer_test - lr_test_pred) ** 2)\n",
    "        lr_outer_mse_scores.append({\n",
    "            'lambda': best_lambda,\n",
    "            'mse': lr_outer_mse\n",
    "        })\n",
    "        \n",
    "        # Train the ANN model with the best number of hidden neurons\n",
    "        X_outer_train = torch.Tensor(X_outer_train.astype(np.float64)).to(device)\n",
    "        y_outer_train = torch.Tensor(y_outer_train.astype(np.float64)).to(device)\n",
    "        X_outer_test = torch.Tensor(X_outer_test.astype(np.float64)).to(device)\n",
    "        y_outer_test = torch.Tensor(y_outer_test.astype(np.float64)).to(device)\n",
    "        \n",
    "        train_loader = DataLoader(X_outer_train, y_outer_train, batch_size=batch_size)\n",
    "        test_loader = DataLoader(X_outer_test, y_outer_test, batch_size=batch_size)\n",
    "\n",
    "        ann_model = ANNRegression(X_outer_train.shape[1], best_hidden).to(device)\n",
    "        optimizer = torch.optim.Adam(ann_model.parameters(), lr=1e-3)\n",
    "        ann_model.train_(device, train_loader, test_loader, optimizer, criterion, num_epochs)\n",
    "        \n",
    "        # And evaluate it on the test set\n",
    "        ann_test_pred = ann_model.predict(X_outer_test)\n",
    "        ann_outer_mse = np.mean((y_outer_test.cpu().detach().numpy() - ann_test_pred.cpu().detach().numpy()) ** 2)\n",
    "        ann_outer_mse_scores.append({\n",
    "            'hidden': best_hidden,\n",
    "            'mse': ann_outer_mse\n",
    "        })\n",
    "        \n",
    "    return baseline_mse_scores, lr_outer_mse_scores, ann_outer_mse_scores"
   ]
  },
  {
   "cell_type": "code",
   "execution_count": 32,
   "metadata": {},
   "outputs": [],
   "source": [
    "num_hyperparameter_values = 30\n",
    "\n",
    "baseline_mse_scores, lr_outer_mse_scores, ann_outer_mse_scores = two_level_cross_validation(\n",
    "    lambdas=np.logspace(-3, 6, num_hyperparameter_values), \n",
    "    hidden_neurons=[int(i) for i in range(1, num_hyperparameter_values + 1)],  \n",
    "    outer_K=10,\n",
    "    inner_K=10,\n",
    ")"
   ]
  },
  {
   "cell_type": "markdown",
   "metadata": {},
   "source": [
    "### 2.2.2 Creating a table"
   ]
  },
  {
   "cell_type": "code",
   "execution_count": 35,
   "metadata": {},
   "outputs": [
    {
     "data": {
      "text/html": [
       "\n",
       "<style>\n",
       "    table {text-align: center !important;}\n",
       "    th {text-align: center !important;}\n",
       "    td {text-align: center !important;}\n",
       "</style>\n",
       "<table border=\"1\" class=\"dataframe\">\n",
       "  <thead>\n",
       "    <tr style=\"text-align: right;\">\n",
       "      <th></th>\n",
       "      <th>Outer fold i</th>\n",
       "      <th>h<sub>i</sub><sup>*</sup></th>\n",
       "      <th>ANN E<sub>i</sub><sup>test</sup></th>\n",
       "      <th>λ<sub>i</sub><sup>*</sup></th>\n",
       "      <th>LR E<sub>i</sub><sup>test</sup></th>\n",
       "      <th>Baseline E<sub>i</sub><sup>test</sup></th>\n",
       "    </tr>\n",
       "  </thead>\n",
       "  <tbody>\n",
       "    <tr>\n",
       "      <th>0</th>\n",
       "      <td>0</td>\n",
       "      <td>2</td>\n",
       "      <td>0.5388</td>\n",
       "      <td>0.0020</td>\n",
       "      <td>0.4925</td>\n",
       "      <td>1.1547</td>\n",
       "    </tr>\n",
       "    <tr>\n",
       "      <th>1</th>\n",
       "      <td>1</td>\n",
       "      <td>2</td>\n",
       "      <td>0.4286</td>\n",
       "      <td>0.0020</td>\n",
       "      <td>0.4617</td>\n",
       "      <td>1.1495</td>\n",
       "    </tr>\n",
       "    <tr>\n",
       "      <th>2</th>\n",
       "      <td>2</td>\n",
       "      <td>2</td>\n",
       "      <td>0.4835</td>\n",
       "      <td>0.0020</td>\n",
       "      <td>0.4756</td>\n",
       "      <td>0.9129</td>\n",
       "    </tr>\n",
       "    <tr>\n",
       "      <th>3</th>\n",
       "      <td>3</td>\n",
       "      <td>2</td>\n",
       "      <td>0.4325</td>\n",
       "      <td>0.0020</td>\n",
       "      <td>0.3750</td>\n",
       "      <td>0.7947</td>\n",
       "    </tr>\n",
       "    <tr>\n",
       "      <th>4</th>\n",
       "      <td>4</td>\n",
       "      <td>2</td>\n",
       "      <td>0.5975</td>\n",
       "      <td>0.0020</td>\n",
       "      <td>0.5999</td>\n",
       "      <td>1.1620</td>\n",
       "    </tr>\n",
       "    <tr>\n",
       "      <th>5</th>\n",
       "      <td>5</td>\n",
       "      <td>2</td>\n",
       "      <td>0.4999</td>\n",
       "      <td>0.0020</td>\n",
       "      <td>0.4425</td>\n",
       "      <td>1.0075</td>\n",
       "    </tr>\n",
       "    <tr>\n",
       "      <th>6</th>\n",
       "      <td>6</td>\n",
       "      <td>2</td>\n",
       "      <td>0.5207</td>\n",
       "      <td>0.0020</td>\n",
       "      <td>0.4915</td>\n",
       "      <td>1.0976</td>\n",
       "    </tr>\n",
       "    <tr>\n",
       "      <th>7</th>\n",
       "      <td>7</td>\n",
       "      <td>2</td>\n",
       "      <td>0.4146</td>\n",
       "      <td>0.0020</td>\n",
       "      <td>0.4240</td>\n",
       "      <td>0.8595</td>\n",
       "    </tr>\n",
       "    <tr>\n",
       "      <th>8</th>\n",
       "      <td>8</td>\n",
       "      <td>2</td>\n",
       "      <td>0.4072</td>\n",
       "      <td>0.0020</td>\n",
       "      <td>0.3828</td>\n",
       "      <td>0.9664</td>\n",
       "    </tr>\n",
       "    <tr>\n",
       "      <th>9</th>\n",
       "      <td>9</td>\n",
       "      <td>2</td>\n",
       "      <td>0.4656</td>\n",
       "      <td>0.0020</td>\n",
       "      <td>0.4424</td>\n",
       "      <td>0.8981</td>\n",
       "    </tr>\n",
       "  </tbody>\n",
       "</table>"
      ],
      "text/plain": [
       "<IPython.core.display.HTML object>"
      ]
     },
     "metadata": {},
     "output_type": "display_data"
    },
    {
     "name": "stdout",
     "output_type": "stream",
     "text": [
      "\n",
      "Summary Statistics (Test Loss):\n"
     ]
    },
    {
     "data": {
      "text/html": [
       "\n",
       "<style>\n",
       "    table {text-align: center !important;}\n",
       "    th {text-align: center !important;}\n",
       "    td {text-align: center !important;}\n",
       "</style>\n",
       "<table border=\"1\" class=\"dataframe\">\n",
       "  <thead>\n",
       "    <tr style=\"text-align: right;\">\n",
       "      <th></th>\n",
       "      <th>ANN</th>\n",
       "      <th>Linear Regression</th>\n",
       "      <th>Baseline</th>\n",
       "    </tr>\n",
       "  </thead>\n",
       "  <tbody>\n",
       "    <tr>\n",
       "      <th>Best</th>\n",
       "      <td>0.4072</td>\n",
       "      <td>0.3750</td>\n",
       "      <td>0.7947</td>\n",
       "    </tr>\n",
       "    <tr>\n",
       "      <th>Average</th>\n",
       "      <td>0.4789</td>\n",
       "      <td>0.4588</td>\n",
       "      <td>1.0003</td>\n",
       "    </tr>\n",
       "    <tr>\n",
       "      <th>Worst</th>\n",
       "      <td>0.5975</td>\n",
       "      <td>0.5999</td>\n",
       "      <td>1.1620</td>\n",
       "    </tr>\n",
       "  </tbody>\n",
       "</table>"
      ],
      "text/plain": [
       "<IPython.core.display.HTML object>"
      ]
     },
     "metadata": {},
     "output_type": "display_data"
    }
   ],
   "source": [
    "import pandas as pd\n",
    "from IPython.display import display, HTML\n",
    "\n",
    "data = pd.DataFrame({\n",
    "    'Outer fold i': list(range(0, 10)),\n",
    "    'h<sub>i</sub><sup>*</sup>': [ann_outer_mse_scores[i][\"hidden\"] for i in range(0, 10)],\n",
    "    'ANN E<sub>i</sub><sup>test</sup>': [ann_outer_mse_scores[i][\"mse\"] for i in range(0, 10)],\n",
    "    'λ<sub>i</sub><sup>*</sup>': [lr_outer_mse_scores[i][\"lambda\"] for i in range(0, 10)],\n",
    "    'LR E<sub>i</sub><sup>test</sup>': [lr_outer_mse_scores[i][\"mse\"] for i in range(0, 10)],\n",
    "    'Baseline E<sub>i</sub><sup>test</sup>': [baseline_mse_scores[i][\"mse\"] for i in range(0, 10)]\n",
    "})\n",
    "\n",
    "pd.set_option('display.float_format', lambda x: '{:.4f}'.format(x))\n",
    "pd.set_option('display.max_columns', None)\n",
    "\n",
    "style = \"\"\"\n",
    "<style>\n",
    "    table {text-align: center !important;}\n",
    "    th {text-align: center !important;}\n",
    "    td {text-align: center !important;}\n",
    "</style>\n",
    "\"\"\"\n",
    "\n",
    "display(HTML(style + data.to_html(escape=False)))\n",
    "\n",
    "summary_data = {\n",
    "    'ANN': [\n",
    "        data['ANN E<sub>i</sub><sup>test</sup>'].min(),\n",
    "        data['ANN E<sub>i</sub><sup>test</sup>'].mean(),\n",
    "        data['ANN E<sub>i</sub><sup>test</sup>'].max()\n",
    "    ],\n",
    "    'Linear Regression': [\n",
    "        data['LR E<sub>i</sub><sup>test</sup>'].min(),\n",
    "        data['LR E<sub>i</sub><sup>test</sup>'].mean(),\n",
    "        data['LR E<sub>i</sub><sup>test</sup>'].max()\n",
    "    ],\n",
    "    'Baseline': [\n",
    "        data['Baseline E<sub>i</sub><sup>test</sup>'].min(),\n",
    "        data['Baseline E<sub>i</sub><sup>test</sup>'].mean(),\n",
    "        data['Baseline E<sub>i</sub><sup>test</sup>'].max()\n",
    "    ]\n",
    "}\n",
    "\n",
    "summary_df = pd.DataFrame(\n",
    "    summary_data,\n",
    "    index=['Best', 'Average', 'Worst']\n",
    ")\n",
    "\n",
    "print(\"\\nSummary Statistics (Test Loss):\")\n",
    "display(HTML(style + summary_df.round(4).to_html()))"
   ]
  },
  {
   "cell_type": "code",
   "execution_count": 50,
   "metadata": {},
   "outputs": [],
   "source": [
    "from sklearn.model_selection import RepeatedKFold\n",
    "\n",
    "def stat_eval_cross_validation(X, y, lambda_=0.002, hidden_u=2, K=10, J=30):\n",
    "    rkf = RepeatedKFold(n_splits=K, n_repeats=J // K, random_state=42)\n",
    "    \n",
    "    ann_vs_lr = []\n",
    "    ann_vs_baseline = []\n",
    "    lr_vs_baseline = []\n",
    "    \n",
    "    for train_index, test_index in rkf.split(X):\n",
    "        X_train, X_test = X[train_index], X[test_index]\n",
    "        y_train, y_test = y[train_index], y[test_index]\n",
    "        \n",
    "        # Evaluate the baseline model\n",
    "        y_train_mean = np.mean(y_train)\n",
    "        y_test_pred = np.full_like(y_test, y_train_mean)\n",
    "        mse_baseline = np.mean((y_test - y_test_pred) ** 2)\n",
    "        \n",
    "        # Linear Regression\n",
    "        lr_model = LinearRegression(X_train, y_train, include_bias=False)\n",
    "        lr_model.solve_analytical(lambda_)\n",
    "        y_pred = np.dot(X_test, lr_model.weights)\n",
    "        mse_lr = np.mean((y_test - y_pred) ** 2)\n",
    "        \n",
    "        # ANN model\n",
    "        X_train = torch.Tensor(X_train.astype(np.float64)).to(device)\n",
    "        y_train = torch.Tensor(y_train.astype(np.float64)).to(device)\n",
    "        X_test = torch.Tensor(X_test.astype(np.float64)).to(device)\n",
    "        y_test = torch.Tensor(y_test.astype(np.float64)).to(device)\n",
    "        \n",
    "        train_loader = DataLoader(X_train, y_train, batch_size=128)\n",
    "        test_loader = DataLoader(X_test, y_test, batch_size=128)\n",
    "\n",
    "        ann_model = ANNRegression(X_train.shape[1], hidden_u).to(device)\n",
    "        optimizer = torch.optim.Adam(ann_model.parameters(), lr=1e-3)\n",
    "        ann_model.train_(device, train_loader, test_loader, optimizer, criterion, num_epochs)\n",
    "        \n",
    "        ann_test_pred = ann_model.predict(X_test)\n",
    "        mse_ann = np.mean((y_test.cpu().detach().numpy() - ann_test_pred.cpu().detach().numpy()) ** 2)\n",
    "        \n",
    "        ann_vs_lr.append(mse_ann - mse_lr)\n",
    "        ann_vs_baseline.append(mse_ann - mse_baseline)\n",
    "        lr_vs_baseline.append(mse_lr - mse_baseline)\n",
    "    \n",
    "    \"\"\" avg_ann_vs_lr = np.mean(ann_vs_lr)\n",
    "    avg_ann_vs_baseline = np.mean(ann_vs_baseline)\n",
    "    avg_lr_vs_baseline = np.mean(lr_vs_baseline) \"\"\"\n",
    "\n",
    "    return ann_vs_lr, ann_vs_baseline, lr_vs_baseline\n",
    "\n",
    "ann_vs_lr, ann_vs_baseline, lr_vs_baseline = stat_eval_cross_validation(X, y)"
   ]
  },
  {
   "cell_type": "code",
   "execution_count": 52,
   "metadata": {},
   "outputs": [
    {
     "name": "stdout",
     "output_type": "stream",
     "text": [
      "0.22646769523259794 (-0.013310264995458058, 0.053949283463021434)\n",
      "4.325769034091432e-14 (-0.5996977132556582, -0.4425986846738262)\n",
      "4.129263384768509e-17 (-0.6038983934030026, -0.47903702299404477)\n"
     ]
    }
   ],
   "source": [
    "from dtuimldmtools import *\n",
    "from dtuimldmtools.statistics.statistics import correlated_ttest\n",
    "\n",
    "# Initialize parameters and run test appropriate for setup II\n",
    "alpha = 0.05\n",
    "rho = 1/10\n",
    "p_ann_lr, CI_ann_lr = correlated_ttest(ann_vs_lr, rho, alpha=alpha)\n",
    "p_ann_baseline, CI_ann_baseline = correlated_ttest(ann_vs_baseline, rho, alpha=alpha)\n",
    "p_lr_baseline, CI_lr_baseline = correlated_ttest(lr_vs_baseline, rho, alpha=alpha)\n",
    "\n",
    "\n",
    "print(p_ann_lr, CI_ann_lr)\n",
    "print(p_ann_baseline, CI_ann_baseline)\n",
    "print(p_lr_baseline, CI_lr_baseline)"
   ]
  },
  {
   "cell_type": "markdown",
   "metadata": {},
   "source": [
    "- - -\n",
    "- - -"
   ]
  },
  {
   "cell_type": "markdown",
   "metadata": {},
   "source": [
    "# 3. Classification"
   ]
  },
  {
   "cell_type": "markdown",
   "metadata": {},
   "source": [
    "For classification, we will use the same setup as the first project, so we will use the gender as the target variable, since it's categroical, and the number of rings as a feature."
   ]
  },
  {
   "cell_type": "code",
   "execution_count": null,
   "metadata": {},
   "outputs": [],
   "source": [
    "abalone = fetch_ucirepo(id = 1)\n",
    "\n",
    "data = abalone.data.original.to_numpy()\n",
    "\n",
    "data = data[data[:, 3] != 0]\n",
    "data = data[data[:, 3] < 0.5]\n",
    "        \n",
    "X, y = data[:, 1:], data[:, :1]\n",
    "X = standardize_data(X)[0]"
   ]
  },
  {
   "cell_type": "code",
   "execution_count": null,
   "metadata": {},
   "outputs": [],
   "source": [
    "from collections import Counter\n",
    "\n",
    "def gender_encode_y(y):\n",
    "    y_encoded = y.copy()\n",
    "    \n",
    "    # Mapping logic\n",
    "    y_encoded[y == 'M'] = 1\n",
    "    y_encoded[y == 'F'] = 1\n",
    "    y_encoded[y == 'I'] = 0\n",
    "    \n",
    "    return y_encoded\n",
    "\n",
    "def print_classes_and_counts(y):\n",
    "    y_flat = y.flatten()\n",
    "    \n",
    "    class_counts = Counter(y_flat)\n",
    "    \n",
    "    print(\"\\n\\nClasses and their counts:\")\n",
    "    for cls, count in class_counts.items():\n",
    "        print(f\"Class: {cls}, Count: {count}\")\n",
    "        \n",
    "    return class_counts"
   ]
  },
  {
   "cell_type": "code",
   "execution_count": null,
   "metadata": {},
   "outputs": [],
   "source": [
    "y_binary = gender_encode_y(y)\n",
    "y_binary = y_binary.astype(np.float64)\n",
    "class_counts = print_classes_and_counts(y_binary)"
   ]
  },
  {
   "cell_type": "markdown",
   "metadata": {},
   "source": [
    "## 3.1. Baseline model"
   ]
  },
  {
   "cell_type": "markdown",
   "metadata": {},
   "source": [
    "The baseline model prediction is done by return the most frequent class in the training data."
   ]
  },
  {
   "cell_type": "code",
   "execution_count": null,
   "metadata": {},
   "outputs": [],
   "source": [
    "from Classification.BaselineClassification import BaselineClassification\n",
    "\n",
    "model = BaselineClassification(y_binary)\n",
    "model.train_()\n",
    "E = model.eval_(y_binary)"
   ]
  },
  {
   "cell_type": "markdown",
   "metadata": {},
   "source": [
    "## 3.2. Logistic regression for classification"
   ]
  },
  {
   "cell_type": "code",
   "execution_count": null,
   "metadata": {},
   "outputs": [],
   "source": [
    "from Classification.LogisticRegression import LogisticRegression\n",
    "\n",
    "# Split your data into training and testing sets\n",
    "X_train, X_test, y_train, y_test = train_test_split(X, y_binary, test_size=0.2, random_state=42)\n",
    "\n",
    "# Initialize and train the model\n",
    "model_bias = LogisticRegression(X_train, y_train, include_bias=True)\n",
    "model_bias.train_()\n",
    "\n",
    "model_nonbias = LogisticRegression(X_train, y_train, include_bias=False)\n",
    "model_nonbias.train_()\n",
    "\n",
    "print(f'Error rate without bias: {model_nonbias.eval_(X_test, y_test):.4f}, with bias: {model_bias.eval_(X_test, y_test):.4f}')"
   ]
  },
  {
   "cell_type": "code",
   "execution_count": null,
   "metadata": {},
   "outputs": [],
   "source": [
    "model = LogisticRegression(X, y_binary)\n",
    "model.plot_one_level_cv_generalization_error(lambda_range=(-5, 5), num_lambdas=100, K=10)\n",
    "model.plot_one_level_cv_generalization_error(lambda_range=(2, 4.2), num_lambdas=100, K=10)\n",
    "model.plot_one_level_cv_generalization_error(lambda_range=(3, 4), num_lambdas=100, K=10)"
   ]
  },
  {
   "cell_type": "markdown",
   "metadata": {},
   "source": [
    "## 3.3. ANN, KNN, NB or CT"
   ]
  },
  {
   "cell_type": "code",
   "execution_count": null,
   "metadata": {},
   "outputs": [],
   "source": [
    "from Classification.ANNClassification import ANNClassification\n",
    "\n",
    "import torch.nn as nn\n",
    "from sklearn.model_selection import train_test_split\n",
    "\n",
    "# Device configuration\n",
    "device = torch.device('cuda' if torch.cuda.is_available() else 'cpu')\n",
    "\n",
    "# Data Preparation\n",
    "X_train, X_val, y_train, y_val = train_test_split(X, y_binary, test_size=0.8, random_state=42)\n",
    "X_train_tensor = torch.FloatTensor(X_train).to(device)\n",
    "y_train_tensor = torch.LongTensor(y_train.flatten()).to(device)\n",
    "X_val_tensor = torch.FloatTensor(X_val).to(device)\n",
    "y_val_tensor = torch.LongTensor(y_val.flatten()).to(device)\n",
    "\n",
    "train_loader = DataLoader(X_train_tensor, y_train_tensor, batch_size=32, shuffle=True)\n",
    "val_loader = DataLoader(X_val_tensor, y_val_tensor, batch_size=32, shuffle=False)\n",
    "\n",
    "# Define the ANNClassification model\n",
    "input_size = X.shape[1]\n",
    "hidden_neurons = 2\n",
    "model = ANNClassification(input_size, hidden_neurons).to(device)\n",
    "\n",
    "# Define loss function and optimizer\n",
    "criterion = nn.CrossEntropyLoss()\n",
    "optimizer = torch.optim.Adam(model.parameters(), lr=0.001)\n",
    "\n",
    "# Train the model\n",
    "num_epochs = 50\n",
    "model.train_(device, train_loader, optimizer, criterion, num_epochs)\n",
    "\n",
    "# Evaluate accuracy on validation set\n",
    "val_loss, val_error = model.eval_(device, val_loader, criterion)"
   ]
  },
  {
   "cell_type": "code",
   "execution_count": null,
   "metadata": {},
   "outputs": [],
   "source": [
    "model.plot_training_loss()"
   ]
  },
  {
   "cell_type": "markdown",
   "metadata": {},
   "source": [
    "## 3.4. Two-level cross-validation for classification"
   ]
  },
  {
   "cell_type": "code",
   "execution_count": null,
   "metadata": {},
   "outputs": [],
   "source": [
    "import pandas as pd\n",
    "\n",
    "batch_size = 128\n",
    "num_epochs = 50\n",
    "criterion = nn.CrossEntropyLoss()\n",
    "device = torch.device('cuda' if torch.cuda.is_available() else 'cpu')\n",
    "\n",
    "def classification_two_level_cross_validation(X, y, lambdas, hidden_neurons, outer_K, inner_K):\n",
    "    cv_table_df = pd.DataFrame(columns=['Outer Fold', 'ANN_h', 'ANN_error', 'LR_lambda', 'LR_error', 'Baseline_error'])\n",
    "\n",
    "    outer_kf = KFold(n_splits=outer_K, shuffle=True, random_state=42)\n",
    "    outer_folds = outer_kf.split(X)\n",
    "    \n",
    "    # outer folds\n",
    "    for outer_fold, (outer_train_index, outer_test_index) in enumerate(outer_folds):\n",
    "        X_outer_train, X_outer_test = X[outer_train_index], X[outer_test_index]\n",
    "        y_outer_train, y_outer_test = y[outer_train_index], y[outer_test_index]\n",
    "        \n",
    "        lr_avg_inner_mses = []\n",
    "        ann_avg_inner_mses = []\n",
    "\n",
    "        # calculate the inner folds before looping over the hyperparameters to ensure that its the same for each of them\n",
    "        inner_kf = KFold(n_splits=inner_K, shuffle=True, random_state=42)\n",
    "        inner_folds = inner_kf.split(X_outer_train)\n",
    "        \n",
    "        # for every hyperparameter value\n",
    "        for j in range(len(lambdas)):\n",
    "            lambda_ = lambdas[j]\n",
    "            lr_inner_mse = 0\n",
    "            \n",
    "            hidden = hidden_neurons[j]\n",
    "            ann_inner_mse = 0\n",
    "            \n",
    "            # inner folds\n",
    "            for inner_train_index, inner_val_index in inner_folds:\n",
    "                X_inner_train, X_inner_val = X_outer_train[inner_train_index], X_outer_train[inner_val_index]\n",
    "                y_inner_train, y_inner_val = y_outer_train[inner_train_index], y_outer_train[inner_val_index]\n",
    "\n",
    "                # Train the log regression model\n",
    "                lr_model = LogisticRegression(X_inner_train, y_inner_train, lambda_=lambda_, include_bias=True)\n",
    "                lr_model.train_()\n",
    "                lr_inner_mse += lr_model.eval_(X_inner_val, y_inner_val)\n",
    "                    \n",
    "                #ANN model\n",
    "                X_inner_train = torch.Tensor(X_inner_train.astype(np.float64)).to(device)\n",
    "                y_inner_train = torch.LongTensor(y_inner_train.flatten()).to(device)\n",
    "                X_inner_val = torch.Tensor(X_inner_val.astype(np.float64)).to(device)\n",
    "                y_inner_val = torch.LongTensor(y_inner_val.flatten()).to(device)\n",
    "\n",
    "                train_loader = DataLoader(X_inner_train, y_inner_train, batch_size=batch_size)\n",
    "                val_loader = DataLoader(X_inner_val, y_inner_val, batch_size=batch_size)\n",
    "\n",
    "                ann_model = ANNClassification(X_inner_train.shape[1], hidden).to(device)\n",
    "                optimizer = torch.optim.Adam(ann_model.parameters(), lr=1e-3)\n",
    "                ann_model.train_(device, train_loader, optimizer, criterion, num_epochs)\n",
    "                ann_inner_mse += ann_model.eval_(device, val_loader, criterion)[1]\n",
    "                \n",
    "            # calculate the average mse of the inner folds for the given hyperparameter value and add it to the list\n",
    "            lr_avg_inner_mses.append(lr_inner_mse / inner_K)\n",
    "            ann_avg_inner_mses.append(ann_inner_mse / inner_K) \n",
    "            \n",
    "        # take the hyperparameter that gave the lowest average mse on the inner folds\n",
    "        best_lambda = lambdas[np.argmin(ann_avg_inner_mses)]\n",
    "        best_hidden = hidden_neurons[np.argmin(ann_avg_inner_mses)]\n",
    "\n",
    "        # Evaluate the baseline model\n",
    "        baseline_model = BaselineClassification(y_outer_test)\n",
    "        baseline_model.train_()\n",
    "        error = baseline_model.eval_(y_outer_test)\n",
    "        cv_table_df.loc[outer_fold, 'Baseline_error'] = error\n",
    "\n",
    "        # Train the log regression model with the best lambda\n",
    "        lr_model = LogisticRegression(X_outer_train, y_outer_train, include_bias=True)\n",
    "        lr_model.train_()\n",
    "        error = lr_model.eval_(X_outer_test, y_outer_test)\n",
    "        cv_table_df.loc[outer_fold, 'LR_lambda'] = f\"{np.log10(best_lambda):.2f}\"\n",
    "        cv_table_df.loc[outer_fold, 'LR_error'] = error\n",
    "\n",
    "        # Train the ANN model with the best number of hidden neurons\n",
    "        X_outer_train = torch.Tensor(X_outer_train.astype(np.float64)).to(device)\n",
    "        y_outer_train = torch.Tensor(y_outer_train.astype(np.float64)).to(device)\n",
    "        X_outer_test = torch.Tensor(X_outer_test.astype(np.float64)).to(device)\n",
    "        y_outer_test = torch.Tensor(y_outer_test.astype(np.float64)).to(device)\n",
    "        \n",
    "        train_loader = DataLoader(X_outer_train, y_outer_train, batch_size=batch_size)\n",
    "        test_loader = DataLoader(X_outer_test, y_outer_test, batch_size=batch_size)\n",
    "        \n",
    "        ann_model = ANNClassification(X_outer_train.shape[1], best_hidden).to(device)\n",
    "        optimizer = torch.optim.Adam(ann_model.parameters(), lr=1e-3)\n",
    "        ann_model.train_(device, train_loader, optimizer, criterion, num_epochs)\n",
    "\n",
    "        # And evaluate it on the test set\n",
    "        error = ann_model.eval_(device, test_loader, criterion)[1]\n",
    "        cv_table_df.loc[outer_fold, 'ANN_h'] = best_hidden\n",
    "        cv_table_df.loc[outer_fold, 'ANN_error'] = error\n",
    "        cv_table_df.loc[outer_fold, 'Outer Fold'] = outer_fold + 1\n",
    "   \n",
    "    return cv_table_df"
   ]
  },
  {
   "cell_type": "code",
   "execution_count": null,
   "metadata": {},
   "outputs": [],
   "source": [
    "num_hyperparameter_values = 30\n",
    "\n",
    "df = classification_two_level_cross_validation(\n",
    "    X=X,\n",
    "    y=y_binary,\n",
    "    lambdas=np.logspace(-3, 6, num_hyperparameter_values), \n",
    "    hidden_neurons=[int(i) for i in range(1, num_hyperparameter_values + 1)],  \n",
    "    outer_K=10,\n",
    "    inner_K=10,\n",
    ")\n",
    "\n",
    "display(df)"
   ]
  },
  {
   "cell_type": "markdown",
   "metadata": {},
   "source": [
    "- - -\n",
    "- - -\n",
    "# Exercises"
   ]
  },
  {
   "cell_type": "markdown",
   "metadata": {},
   "source": [
    "### Exercise 1\n",
    "The subplot that corresponds to the ROC curve is C, because decreasing the threshold starting from $1.0$, the first point that become predicted as poisitve is a true positive, so the ROC curve moves up, then we have two points that become predicted as positive, but are in fact false positives, so the ROC curve moves right twice, and so on, tracing the curve in the figure."
   ]
  },
  {
   "cell_type": "markdown",
   "metadata": {},
   "source": [
    "### Exercise 2\n",
    "The impurity gain of the split is $\\Delta\\approx 0.0148$, because:\n",
    "\n",
    "$$\n",
    "\\begin{align}\n",
    "\\Delta\n",
    "&=I(r)-\\displaystyle\\sum_{i=1}^K\\frac{N_i}{N}I(v_i)=\\\\\n",
    "&=\\left(1-\\dfrac{37}{37+31+33+34}\\right)-\\left[\\dfrac{120}{135}\\left(1-\\dfrac{33}{33+28+30+29}\\right)+\\dfrac{14}{135}\\left(1-\\dfrac5{4+2+3+5}\\right)+\\dfrac1{135}\\left(1-\\dfrac11\\right)\\right]=\\\\\n",
    "&=\\dfrac{98}{135}-\\left[\\dfrac{120}{135}\\dfrac{87}{120}+\\dfrac{14}{135}\\dfrac{9}{14}+\\dfrac{1}{135}\\cdot0\\right]=\\\\\n",
    "&=\\dfrac{98}{135}-\\dfrac{96}{135}=\\\\\n",
    "&=\\dfrac2{135}\\approx0.0148\n",
    "\\end{align}\n",
    "$$"
   ]
  },
  {
   "cell_type": "markdown",
   "metadata": {},
   "source": [
    "### Exercise 3\n",
    "The network contains $110$ parameters, because the input layer has $7$ neurons, the hidden layer has $10$ neurons, and the output layer has $4$ neurons, so the weights are $7\\times 10+10\\times 4=110$."
   ]
  },
  {
   "cell_type": "markdown",
   "metadata": {},
   "source": [
    "### Exercise 4\n",
    "The correct rules assignment to the nodes are the ones described in D, because A separates $b_1<-0.76$ from $b_1>-0.76$, B separates the top-left region (congestion level 2) from the bottom-left region (congestion level 1), then C separates the right-most region (congestion level 4) from the middle strip, which is finally separated by D into middle-top (congestion level 1) and middle-bottom (congestion level 3)."
   ]
  },
  {
   "cell_type": "markdown",
   "metadata": {},
   "source": [
    "### Exercise 5\n"
   ]
  },
  {
   "cell_type": "markdown",
   "metadata": {},
   "source": [
    "### Exercise 6\n",
    "The observation assigned to class $y=4$ will be observation B, because:\n",
    "- $\\hat y_1=\\begin{bmatrix}1\\\\-0.6\\\\-1.6\\end{bmatrix}^T\\begin{bmatrix}1.2\\\\-2.1\\\\3.2\\end{bmatrix}=-2.66$\n",
    "- $\\hat y_2=\\begin{bmatrix}1\\\\-0.6\\\\-1.6\\end{bmatrix}^T\\begin{bmatrix}1.2\\\\-1.7\\\\2.9\\end{bmatrix}=-2.42$\n",
    "- $\\hat y_3=\\begin{bmatrix}1\\\\-0.6\\\\-1.6\\end{bmatrix}^T\\begin{bmatrix}1.3\\\\-1.1\\\\2.2\\end{bmatrix}=-1.56$\n",
    "\n",
    "So $P(y=4|\\hat{\\textbf{y}})=\\dfrac1{1+e^{-2.66}+e^{-2.42}+e^{-1.56}}\\approx0.74$ (being more than $0.5$ makes useless to calculate the probability of the other classes)."
   ]
  },
  {
   "cell_type": "markdown",
   "metadata": {},
   "source": [
    "- - -\n",
    "- - -"
   ]
  }
 ],
 "metadata": {
  "kernelspec": {
   "display_name": "my-env-02450",
   "language": "python",
   "name": "python3"
  },
  "language_info": {
   "codemirror_mode": {
    "name": "ipython",
    "version": 3
   },
   "file_extension": ".py",
   "mimetype": "text/x-python",
   "name": "python",
   "nbconvert_exporter": "python",
   "pygments_lexer": "ipython3",
   "version": "3.11.9"
  }
 },
 "nbformat": 4,
 "nbformat_minor": 2
}
